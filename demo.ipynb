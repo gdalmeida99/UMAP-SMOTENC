{
  "cells": [
    {
      "cell_type": "code",
      "execution_count": null,
      "metadata": {
        "id": "7AUw-yP2PTOx"
      },
      "outputs": [],
      "source": [
        "#!pip install umap-learn\n",
        "#!pip install sdv"
      ]
    },
    {
      "cell_type": "code",
      "execution_count": null,
      "metadata": {
        "id": "F3hDT3d9Yuu5"
      },
      "outputs": [],
      "source": [
        "from UMAPSMOTENC import UMAPSMOTENC\n",
        "from sdv.single_table import TVAESynthesizer, CTGANSynthesizer\n",
        "from sdv.metadata import SingleTableMetadata\n",
        "from sdv.sampling import Condition\n",
        "import numpy as np\n",
        "import pandas as pd\n",
        "from sklearn.preprocessing import MinMaxScaler\n",
        "from sklearn.ensemble import RandomForestClassifier\n",
        "from sklearn.metrics import f1_score\n",
        "from sklearn.model_selection import train_test_split\n",
        "import time"
      ]
    },
    {
      "cell_type": "code",
      "execution_count": 38,
      "metadata": {
        "id": "RRHsk6UfC-b7"
      },
      "outputs": [],
      "source": [
        "#Define helper functions to load and handle the data\n",
        "def binnarize(data, cat_cols):\n",
        "\n",
        "    for i in cat_cols:\n",
        "        bin = pd.get_dummies(data[i])\n",
        "        bin_columns = [i + \"_\" + str(j) for j in bin.columns]\n",
        "        bin.columns = bin_columns\n",
        "        data = pd.concat([data, bin], axis=1)\n",
        "\n",
        "    data = data.loc[:, [i for i in data.columns if i not in cat_cols]]\n",
        "\n",
        "    return data\n",
        "\n",
        "\n",
        "def preprocess_adult_dataset(random_seed=42):\n",
        "    url = \"https://archive.ics.uci.edu/ml/machine-learning-databases/adult/adult.data\"\n",
        "\n",
        "    column_names = [\n",
        "        \"age\", \"workclass\", \"fnlwgt\", \"education\", \"education-num\",\n",
        "        \"marital-status\", \"occupation\", \"relationship\", \"race\", \"sex\",\n",
        "        \"capital-gain\", \"capital-loss\", \"hours-per-week\", \"native-country\", \"income\"\n",
        "    ]\n",
        "\n",
        "    data = pd.read_csv(url, header=None, names=column_names)\n",
        "\n",
        "    data.income = data.income.apply(lambda x: 1 if x.strip() == \">50K\" else 0)\n",
        "\n",
        "    num_cols = [\"age\", \"capital-gain\", \"capital-loss\", \"hours-per-week\", \"fnlwgt\"]\n",
        "    cat_cols = [\n",
        "        \"workclass\", \"education\", \"education-num\", \"marital-status\",\n",
        "        \"occupation\", \"relationship\", \"race\", \"sex\", \"native-country\"\n",
        "    ]\n",
        "\n",
        "    data[cat_cols] = data[cat_cols].astype(str)\n",
        "\n",
        "    X = data.drop('income', axis=1)\n",
        "    y = data['income']\n",
        "\n",
        "    X_train, X_test, y_train, y_test = train_test_split(X, y, test_size=0.2, random_state=random_seed)\n",
        "\n",
        "    scaler = MinMaxScaler()\n",
        "    X_train[num_cols] = scaler.fit_transform(X_train[num_cols])\n",
        "    X_test[num_cols] = scaler.transform(X_test[num_cols])\n",
        "\n",
        "    for col in X_train.columns:\n",
        "        if col not in X_test.columns:\n",
        "            X_test[col] = False\n",
        "\n",
        "    X_test = X_test[X_train.columns]\n",
        "\n",
        "    return X_train, X_test, y_train, y_test, cat_cols, num_cols\n",
        "\n",
        "\n"
      ]
    },
    {
      "cell_type": "code",
      "execution_count": null,
      "metadata": {
        "id": "ChOvOGM7Y8xv"
      },
      "outputs": [],
      "source": [
        "X_train, X_test, y_train, y_test, cat_cols, num_cols = preprocess_adult_dataset()\n",
        "train = X_train.copy()\n",
        "target =\"income\"\n",
        "train[target] = y_train"
      ]
    },
    {
      "cell_type": "code",
      "execution_count": 39,
      "metadata": {
        "colab": {
          "base_uri": "https://localhost:8080/"
        },
        "id": "hAZRbeDzEjwA",
        "outputId": "5ffdd872-7f07-4bab-8395-30235207f0ea"
      },
      "outputs": [
        {
          "name": "stderr",
          "output_type": "stream",
          "text": [
            "/usr/local/lib/python3.10/dist-packages/umap/umap_.py:1945: UserWarning: n_jobs value 1 overridden to 1 by setting random_state. Use no seed for parallelism.\n",
            "  warn(f\"n_jobs value {self.n_jobs} overridden to 1 by setting random_state. Use no seed for parallelism.\")\n",
            "/usr/local/lib/python3.10/dist-packages/imblearn/utils/_validation.py:313: UserWarning: After over-sampling, the number of samples (39556) in class 0 will be larger than the number of samples in the majority class (class #0 -> 19778)\n",
            "  warnings.warn(\n"
          ]
        },
        {
          "name": "stdout",
          "output_type": "stream",
          "text": [
            "Time taken: 163.69 seconds\n"
          ]
        }
      ],
      "source": [
        "#Generate new dataset using UMAPSMOTENC\n",
        "\n",
        "start_time = time.time()\n",
        "\n",
        "umap_smote_nc = UMAPSMOTENC(\n",
        "    num_cols.copy(),\n",
        "    target,\n",
        "    cat_cols.copy(),\n",
        "    seed=22,\n",
        ")\n",
        "\n",
        "\n",
        "X_train_umapsmotenc = umap_smote_nc.fit_transform(train.copy())\n",
        "\n",
        "for tipo, coluna in zip(train.dtypes, train.dtypes.index):\n",
        "    X_train_umapsmotenc[coluna] = X_train_umapsmotenc[coluna].astype(tipo)\n",
        "\n",
        "\n",
        "end_time = time.time()\n",
        "elapsed_time = end_time - start_time\n",
        "print(f\"Time taken: {elapsed_time:.2f} seconds\")"
      ]
    },
    {
      "cell_type": "code",
      "execution_count": 40,
      "metadata": {
        "colab": {
          "base_uri": "https://localhost:8080/"
        },
        "id": "etbpstewS1PO",
        "outputId": "4d6d634c-68c7-45e8-c5fc-220f359582bc"
      },
      "outputs": [
        {
          "name": "stderr",
          "output_type": "stream",
          "text": [
            "/usr/local/lib/python3.10/dist-packages/sdv/single_table/base.py:80: UserWarning: We strongly recommend saving the metadata using 'save_to_json' for replicability in future SDV versions.\n",
            "  warnings.warn(\n",
            "/usr/local/lib/python3.10/dist-packages/joblib/externals/loky/backend/fork_exec.py:38: RuntimeWarning: os.fork() was called. os.fork() is incompatible with multithreaded code, and JAX is multithreaded, so this will likely lead to a deadlock.\n",
            "  pid = os.fork()\n",
            "Sampling conditions: 100%|██████████| 26048/26048 [00:02<00:00, 11446.26it/s]"
          ]
        },
        {
          "name": "stdout",
          "output_type": "stream",
          "text": [
            "Time taken: 534.83 seconds\n"
          ]
        },
        {
          "name": "stderr",
          "output_type": "stream",
          "text": [
            "\n"
          ]
        }
      ],
      "source": [
        "#Generate new dataset using CTGAN\n",
        "#Using T4 GPU\n",
        "\n",
        "start_time = time.time()\n",
        "\n",
        "metadata = SingleTableMetadata()\n",
        "metadata.detect_from_dataframe(train)\n",
        "\n",
        "synthesizer = CTGANSynthesizer(metadata)\n",
        "synthesizer.fit(train)\n",
        "\n",
        "positive_class = Condition(\n",
        "    num_rows=train[train[\"income\"]==1].shape[0],\n",
        "    column_values={'income': 1}\n",
        ")\n",
        "\n",
        "negative_class = Condition(\n",
        "    num_rows=train[train[\"income\"]==0].shape[0],\n",
        "    column_values={'income': 0}\n",
        ")\n",
        "\n",
        "X_train_gan = synthesizer.sample_from_conditions(\n",
        "    conditions=[positive_class, negative_class],\n",
        ")\n",
        "\n",
        "end_time = time.time()\n",
        "elapsed_time = end_time - start_time\n",
        "print(f\"Time taken: {elapsed_time:.2f} seconds\")"
      ]
    },
    {
      "cell_type": "code",
      "execution_count": 43,
      "metadata": {
        "id": "OUrOCv3BKKeL"
      },
      "outputs": [],
      "source": [
        "X_train_binnarize= binnarize(X_train.copy(), cat_cols)\n",
        "X_test_binnarize= binnarize(X_test.copy(), cat_cols)\n",
        "X_train_gan_binnarize= binnarize(X_train_gan.copy(), cat_cols)\n",
        "X_train_umapsmotenc_binnarize= binnarize(X_train_umapsmotenc.copy(), cat_cols)\n",
        "\n",
        "#While fnlwgt introduces diversity in the sampling process, it does not help in the classificaton task and is typically removed from the adult dataset in such settings\n",
        "X_train_umapsmotenc_binnarize.drop(\"fnlwgt\", axis=1, inplace=True)\n",
        "X_test_binnarize.drop(\"fnlwgt\", axis=1, inplace=True)\n",
        "X_train_binnarize.drop(\"fnlwgt\", axis=1, inplace=True)\n",
        "X_train_gan_binnarize.drop(\"fnlwgt\", axis=1, inplace=True)"
      ]
    },
    {
      "cell_type": "code",
      "execution_count": 45,
      "metadata": {
        "colab": {
          "base_uri": "https://localhost:8080/"
        },
        "id": "_Pplb8i2JOP1",
        "outputId": "27a20b99-87a8-4d86-c181-0f7f5c6a2cb9"
      },
      "outputs": [
        {
          "name": "stdout",
          "output_type": "stream",
          "text": [
            "F1 Score achieved with the original train dataset: 0.6747149564050972\n",
            "F1 Score achieved with the UMAPSMOTE-NC synthetic train set: 0.6459930313588851\n",
            "F1 Score achieved with the CTGAN synthetic train set: 0.5972323379461035\n"
          ]
        }
      ],
      "source": [
        "for col in X_train_binnarize.columns:\n",
        "    if col not in X_test_binnarize.columns:\n",
        "        X_test_binnarize[col] = False\n",
        "X_test_binnarize = X_test_binnarize[X_train_binnarize.columns]\n",
        "\n",
        "clf = RandomForestClassifier(random_state=22)\n",
        "\n",
        "clf.fit(X_train_binnarize, y_train)\n",
        "print(f'F1 Score achieved with the original train dataset: {f1_score(y_test, clf.predict(X_test_binnarize))}')\n",
        "\n",
        "clf.fit(X_train_umapsmotenc_binnarize[[col for col in X_train_umapsmotenc_binnarize if col != \"income\"]], X_train_umapsmotenc_binnarize[\"income\"])\n",
        "print(f'F1 Score achieved with the UMAPSMOTE-NC synthetic train set: {f1_score(y_test, clf.predict(X_test_binnarize[X_train_umapsmotenc_binnarize[[col for col in X_train_umapsmotenc_binnarize if col != \"income\"]].columns]))}')\n",
        "\n",
        "clf.fit(X_train_gan_binnarize[[col for col in X_train_gan_binnarize if col != \"income\"]], X_train_gan_binnarize[\"income\"])\n",
        "print(f'F1 Score achieved with the CTGAN synthetic train set: {f1_score(y_test, clf.predict(X_test_binnarize[X_train_gan_binnarize[[col for col in X_train_gan_binnarize if col != \"income\"]].columns]))}')"
      ]
    }
  ],
  "metadata": {
    "accelerator": "GPU",
    "colab": {
      "gpuType": "T4",
      "provenance": []
    },
    "kernelspec": {
      "display_name": "Python 3",
      "name": "python3"
    },
    "language_info": {
      "name": "python"
    }
  },
  "nbformat": 4,
  "nbformat_minor": 0
}
