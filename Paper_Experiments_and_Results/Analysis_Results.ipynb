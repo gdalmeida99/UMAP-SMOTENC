{
  "cells": [
    {
      "cell_type": "code",
      "execution_count": 1,
      "metadata": {
        "id": "_BzBuhkKATpm"
      },
      "outputs": [],
      "source": [
        "import pandas as pd\n",
        "import numpy as np\n",
        "from scipy.stats import wilcoxon\n",
        "from scipy import stats\n",
        "from statsmodels.stats.multitest import multipletests\n",
        "from sklearn.preprocessing import MinMaxScaler\n",
        "from matplotlib import pyplot as plt \n",
        "\n",
        "def aggregate_numeric(rank=False):\n",
        "  data_files = [\n",
        "      \"adult_st.csv\", \n",
        "      \"beans_st.csv\",\n",
        "      \"occupancy_st.csv\", \n",
        "      \"loan_st.csv\", \n",
        "      \"magic_st.csv\",\n",
        "      \"digits_st.csv\",\n",
        "      \"creditcard_st.csv\", \n",
        "      \"covertype_st.csv\"\n",
        "  ]\n",
        "  cols = [\n",
        "      'Mean_Knn', '10_Knn', 'Mean_Ratio_Knn',  'Mean_Ratio_10Knn',\n",
        "      '10_Ratio_Knn', '10_Ratio_10Knn', \"mean_test_score\" \n",
        "  ]\n",
        "\n",
        "  t_list = []\n",
        "  u_list = []\n",
        "  y_list = []\n",
        "\n",
        "  for file in data_files:\n",
        "      data = pd.read_csv(file) \n",
        "      data.params = data.params.astype(str)\n",
        "      t = data.groupby([\"Generator\", \"Seed\", \"Model\", \"params\",\"fold\"])[cols].mean().reset_index()\n",
        "      t_list.append(t)\n",
        "      u = data.groupby([\"Generator\", \"Seed\", \"Model\", \"params\",\"fold\"])[cols].mean().reset_index().groupby([\"Generator\",\"Model\",  \"Seed\",\"fold\"])[cols].max().reset_index()\n",
        "      u_list.append(u)\n",
        "      y = t.merge(u, on= [\"Generator\",  \"Model\", \"Seed\",\"fold\"]+cols)[[\"Generator\",\"Model\",  \"Seed\",\"fold\"]+cols].drop_duplicates()\n",
        "      y = y.groupby([\"Generator\",  \"Seed\",\"fold\"]).mean().reset_index()\n",
        "      y.loc[y[y[\"Generator\"]==\"train\"].index, [\"Mean_Knn\", \"Mean_Ratio_Knn\", \"Mean_Ratio_10Knn\"]]=0\n",
        "      y_list.append(y)\n",
        "\n",
        "  mean_list = []\n",
        "\n",
        "  for i, y in enumerate(y_list):\n",
        "\n",
        "      scaler = MinMaxScaler()\n",
        "      mean = pd.DataFrame(scaler.fit_transform(y[[\"Mean_Knn\", \"Mean_Ratio_Knn\", \"Mean_Ratio_10Knn\", \"mean_test_score\"]]), index=y.index, columns =[\"Mean_Knn\", \"Mean_Ratio_Knn\", \"Mean_Ratio_10Knn\",  \"mean_test_score\"])\n",
        "      mean = mean.merge(y[[\"Generator\", \"Seed\", \"fold\"]], left_index=True, right_index=True)\n",
        "      mean[\"Privacy\"] = (mean[\"Mean_Knn\"] + mean[\"Mean_Ratio_Knn\"] + mean[\"Mean_Ratio_10Knn\"])/3\n",
        "      mean = mean.rename({\"mean_test_score\": \"ML-Utility\"}, axis=1).drop([\"Mean_Knn\", \"Mean_Ratio_Knn\", \"Mean_Ratio_10Knn\"], axis=1)\n",
        "      scaler = MinMaxScaler()\n",
        "      y_t = pd.DataFrame(scaler.fit_transform(mean[[\"Privacy\", \"ML-Utility\"]]), index=mean.index, columns=[\"Privacy\", \"ML-Utility\"])\n",
        "      mean = y_t.merge(mean[[\"Generator\", \"Seed\", \"fold\"]], left_index=True, right_index=True)\n",
        "      mean[\"Trade-off\"] = (2 * mean[\"ML-Utility\"] * mean[\"Privacy\"]) / (mean[\"ML-Utility\"] + mean[\"Privacy\"])\n",
        "      #mean = mean.drop([\"Privacy\", \"ML-Utility\"], axis=1)\n",
        "\n",
        "      mean_list.append(mean) \n",
        "\n",
        "  mean_final = []\n",
        "  std_final = []\n",
        "  \n",
        "  if rank == False:\n",
        "    for i, mean in enumerate(mean_list):\n",
        "\n",
        "      mean_f = mean.groupby(\"Generator\").mean()[[\"Trade-off\", \"Privacy\", \"ML-Utility\"]]\n",
        "      std_f = mean.groupby(\"Generator\").std()[[\"Trade-off\", \"Privacy\", \"ML-Utility\"]]\n",
        "      mean_final.append(mean_f)\n",
        "      std_final.append(std_f)\n",
        "    \n",
        "    return cols, std_final, mean_final\n",
        "\n",
        "  else:\n",
        "   \n",
        "    cols_new=[\"Trade-off_Rank\", \"Privacy_Rank\", \"ML-Utility_Rank\"]\n",
        "    asce=False\n",
        "    col = \"Trade-off\"\n",
        "\n",
        "    for i, mean in enumerate(mean_list):\n",
        "      mean_i = mean[~mean[\"Generator\"].isin([\"train\"])]\n",
        "      for col in [\"Trade-off\", \"Privacy\", \"ML-Utility\"]:\n",
        "        mean_i[col+\"_Rank\"]= mean_i.groupby([\"Seed\", \"fold\"])[col].rank(ascending=asce)\n",
        "        \n",
        "      mean_f = mean_i.groupby(\"Generator\").mean()[[\"Trade-off_Rank\", \"Privacy_Rank\", \"ML-Utility_Rank\"]]\n",
        "      std_f = mean_i.groupby(\"Generator\").std()[[\"Trade-off_Rank\", \"Privacy_Rank\", \"ML-Utility_Rank\"]]\n",
        "      mean_final.append(mean_f)\n",
        "      std_final.append(std_f)    \n",
        "\n",
        "      \n",
        "\n",
        "    return cols, cols_new, std_final, mean_final "
      ]
    },
    {
      "cell_type": "code",
      "execution_count": null,
      "metadata": {
        "id": "MKzltnvRya9z"
      },
      "outputs": [],
      "source": [
        "cols, stds, means, = aggregate_numeric()\n",
        "std_a,std_b,std_c,std_d,std_e,std_f,std_g,std_h = stds\n",
        "mean_a,mean_b,mean_c, mean_d,mean_e,mean_f,mean_g, mean_h= means\n",
        "\n",
        "stds=(std_a*std_a+std_b*std_b+std_c*std_c+std_d*std_d+std_e*std_e+std_f*std_f+std_g*std_g+std_h* std_h)/8\n",
        "data = ((mean_a+mean_b+mean_c+mean_d+mean_e+mean_f+mean_g+mean_h)/8)\n"
      ]
    },
    {
      "cell_type": "code",
      "execution_count": null,
      "metadata": {
        "colab": {
          "base_uri": "https://localhost:8080/",
          "height": 269
        },
        "id": "fg9tsI2WTyuD",
        "outputId": "42547d14-0bc1-42f9-c617-954bf8ec1836"
      },
      "outputs": [],
      "source": [
        "data"
      ]
    },
    {
      "cell_type": "code",
      "execution_count": null,
      "metadata": {
        "colab": {
          "base_uri": "https://localhost:8080/",
          "height": 269
        },
        "id": "bDNAN-VfTyBj",
        "outputId": "761b9397-ac3c-4224-c7ed-2df5e885c92d"
      },
      "outputs": [],
      "source": [
        "stds.applymap(lambda x: np.sqrt(x))"
      ]
    },
    {
      "cell_type": "code",
      "execution_count": null,
      "metadata": {
        "colab": {
          "base_uri": "https://localhost:8080/"
        },
        "id": "QAyOygNJAZi_",
        "outputId": "cbf5b2aa-cb90-4e94-933d-8881c97b76e8"
      },
      "outputs": [],
      "source": [
        "#The Wilcoxon signficance tests used\n",
        "cols, stds, means = aggregate_numeric()\n",
        "std_a,std_b,std_c,std_d,std_e,std_f,std_g,std_h = stds\n",
        "mean_a,mean_b,mean_c, mean_d,mean_e,mean_f,mean_g, mean_h= means\n",
        "\n",
        "mean_a= mean_a.reset_index()\n",
        "mean_b= mean_b.reset_index()\n",
        "mean_c= mean_c.reset_index()\n",
        "mean_d= mean_d.reset_index()\n",
        "mean_e= mean_e.reset_index()\n",
        "mean_f= mean_f.reset_index()\n",
        "mean_g=mean_g.reset_index()\n",
        "mean_h=mean_h.reset_index()\n",
        "\n",
        "for col in [\"Trade-off\"]:\n",
        "  cp =[]\n",
        "  gan =[]\n",
        "  umap_smote_nc =[]\n",
        "  smote =[]\n",
        "  vae = []\n",
        "  train =[]\n",
        "  p_values=[]\n",
        "  \n",
        "  if col in [\"Trade-off\"]:\n",
        "    for value in [mean_a,mean_b,mean_c,mean_d, mean_e, mean_f, mean_g, mean_h]:\n",
        "      \n",
        "      data = value \n",
        "      [cp.append(x) for x in data[data.Generator == \"copula\"][col]]\n",
        "      [gan.append(x) for x in data[data.Generator == \"gan\"][col]]\n",
        "      [vae.append(x) for x in data[data.Generator == \"vae\"][col]]\n",
        "      [umap_smote_nc.append(x) for x in data[data.Generator == \"umap_smote_nc\"][col]]\n",
        "      [train.append(x) for x in data[data.Generator == \"train\"][col]]\n",
        "      [smote.append(x) for x in data[data.Generator == \"smote_nc\"][col]]\n",
        "\n",
        "    for i in [cp, gan, vae, smote]:\n",
        "      p_values.append(wilcoxon([t-j for (t,j) in zip(umap_smote_nc,i)])[1])\n",
        "\n",
        "    values=multipletests(p_values, method =\"holm\")[1]\n",
        "    [print(col, name, \"{:.1e}\".format(value)) for (value, name) in zip(values, [\"cp\", \"gan\",\"vae\", \"smote\" ])]"
      ]
    },
    {
      "cell_type": "code",
      "execution_count": null,
      "metadata": {
        "colab": {
          "base_uri": "https://localhost:8080/"
        },
        "id": "CSljOOIq2b3u",
        "outputId": "e8248a1b-f243-4773-a8fe-2348a1a0fe9f"
      },
      "outputs": [],
      "source": [
        "cols, cols_new, stds, means = aggregate_numeric(rank=True)\n",
        "std_a,std_b,std_c,std_d,std_e,std_f,std_g,std_h = stds\n",
        "mean_a,mean_b,mean_c, mean_d,mean_e,mean_f,mean_g, mean_h= means\n",
        "\n",
        "stds=(std_a*std_a+std_b*std_b+std_c*std_c+std_d*std_d+std_e*std_e+std_f*std_f+std_g*std_g+std_h* std_h)/8\n",
        "data = ((mean_a+mean_b+mean_c+mean_d+mean_e+mean_f+mean_g+mean_h)/8)"
      ]
    },
    {
      "cell_type": "code",
      "execution_count": null,
      "metadata": {
        "colab": {
          "base_uri": "https://localhost:8080/",
          "height": 237
        },
        "id": "0rLRu0pUWEHm",
        "outputId": "e914e210-d986-4a3d-fada-0e6ac78d36a9"
      },
      "outputs": [],
      "source": [
        "data"
      ]
    },
    {
      "cell_type": "code",
      "execution_count": null,
      "metadata": {
        "colab": {
          "base_uri": "https://localhost:8080/",
          "height": 237
        },
        "id": "8mjqfBzXWJTv",
        "outputId": "1357f45f-d87a-4ead-ce4f-fcd9253fb4f1"
      },
      "outputs": [],
      "source": [
        "stds.applymap(lambda x: np.sqrt(x))"
      ]
    },
    {
      "cell_type": "code",
      "execution_count": null,
      "metadata": {
        "colab": {
          "base_uri": "https://localhost:8080/"
        },
        "id": "Pz6ZXTG3deE2",
        "outputId": "cd866f71-7ca6-447d-a67e-53901bdecc63"
      },
      "outputs": [],
      "source": [
        "#Friedman Test\n",
        "cols, cols_new, stds, means = aggregate_numeric(rank=True)\n",
        "std_a,std_b,std_c,std_d,std_e,std_f,std_g, std_h = stds\n",
        "mean_a,mean_b,mean_c, mean_d,mean_e,mean_f,mean_g,mean_h= means\n",
        "\n",
        "\n",
        "for col in cols_new:\n",
        "  cp = []\n",
        "  gan = []\n",
        "  vae = []\n",
        "  umap_smote_nc = []\n",
        "  smote=[]\n",
        "  train =[]\n",
        "\n",
        "\n",
        "  for i in [mean_a,mean_b,mean_c, mean_d,mean_e,mean_f,mean_g,mean_h]:\n",
        "    \n",
        "    data = i.copy().reset_index()\n",
        "    [cp.append(x) for x in data[data.Generator == \"copula\"][col]]\n",
        "    [gan.append(x) for x in data[data.Generator == \"gan\"][col]]\n",
        "    [vae.append(x) for x in data[data.Generator == \"vae\"][col]]\n",
        "    [smote.append(x) for x in data[data.Generator == \"smote_nc\"][col]]\n",
        "    [train.append(x) for x in data[data.Generator == \"train\"][col]]\n",
        "    [umap_smote_nc.append(x) for x in data[data.Generator == \"umap_smote_nc\"][col]]\n",
        "\n",
        "    \n",
        "  _, p_value = stats.friedmanchisquare(cp, gan, vae, umap_smote_nc, smote)\n",
        "  print(\"{:.1e}\".format(p_value), col)\n",
        "  if p_value >=0.05:\n",
        "    print(p_value, col)\n"
      ]
    },
    {
      "cell_type": "markdown",
      "metadata": {
        "id": "3WrLG0Uo6HhM"
      },
      "source": [
        "**Privacy and Utility Metrics**"
      ]
    },
    {
      "cell_type": "code",
      "execution_count": null,
      "metadata": {
        "id": "TW9lkKCa6MLF"
      },
      "outputs": [],
      "source": [
        "def aggregate_numeric(rank=False, remove_train=False):\n",
        "\n",
        "  data_files = [\"adult_st.csv\", \"beans_st.csv\", \"occupancy_st.csv\", \"loan_st.csv\",\n",
        "                \"magic_st.csv\", \"digits_st.csv\", \"creditcard_st.csv\", \"covertype_st.csv\"]\n",
        "\n",
        "\n",
        "\n",
        "  cols = [ 'Mean_Knn', '10_Knn', 'Mean_Ratio_Knn', 'Mean_Ratio_10Knn',\n",
        "          '10_Ratio_Knn', '10_Ratio_10Knn', \"mean_test_score\"]\n",
        "\n",
        "  t_list = []\n",
        "  u_list = []\n",
        "  mean_final =[]\n",
        "  std_final = []\n",
        "  for file in data_files:\n",
        "      data = pd.read_csv(file) \n",
        "\n",
        "      if remove_train:\n",
        "        data = data[~data[\"Generator\"].isin([\"train\"])]\n",
        "      data.params = data.params.astype(str)\n",
        "      t = data.groupby([\"Generator\", \"Seed\", \"Model\", \"params\",\"fold\"])[cols].mean().reset_index()\n",
        "      t_list.append(t)\n",
        "      u = data.groupby([\"Generator\", \"Seed\", \"Model\", \"params\",\"fold\"])[cols].mean().reset_index().groupby([\"Generator\",\"Model\",  \"Seed\",\"fold\"])[cols].max().reset_index()\n",
        "      u_list.append(u)\n",
        "\n",
        "      if rank == True:\n",
        "        cols_new=[]\n",
        "        asce = False\n",
        "\n",
        "        for col in cols:\n",
        "          u[col+\"_Rank\"]= u.groupby([\"Model\", \"Seed\", \"fold\"])[col].rank(ascending=asce)\n",
        "          cols_new.append(col+\"_Rank\")\n",
        "        \n",
        "        mean = t.merge(u, on = [\"Generator\", \"Model\", \"Seed\",\"fold\"]+cols)[[\"Generator\", \"Model\", \"Seed\",\"fold\"]+cols_new].drop_duplicates().groupby([\"Generator\", \"Model\"]).mean()\n",
        "        std = t.merge(u, on = [\"Generator\", \"Model\", \"Seed\",\"fold\"]+cols)[[\"Generator\", \"Model\", \"Seed\",\"fold\"]+cols_new].drop_duplicates().groupby([\"Generator\", \"Model\", \"Seed\"]).std()\n",
        "        std[cols_new] = std[cols_new]* std[cols_new]\n",
        "        std = pd.DataFrame(std.groupby([\"Generator\", \"Model\"]).mean()[cols_new].apply(lambda x: np.sqrt(x)))\n",
        "        std[cols_new] = std[cols_new]* std[cols_new]\n",
        "\n",
        "        mean_final.append(mean)\n",
        "        std_final.append(std)\n",
        "\n",
        "\n",
        "      else:\n",
        "        mean = t.merge(u, on = [\"Generator\", \"Model\", \"Seed\",\"fold\"]+cols)[[\"Generator\", \"Model\", \"Seed\",\"fold\"]+cols].drop_duplicates().groupby([\"Generator\", \"Model\"]).mean()\n",
        "        std = t.merge(u, on = [\"Generator\", \"Model\", \"Seed\",\"fold\"]+cols)[[\"Generator\", \"Model\", \"Seed\",\"fold\"]+cols].drop_duplicates().groupby([\"Generator\", \"Model\", \"Seed\"]).std()\n",
        "        std[cols] = std[cols]* std[cols]\n",
        "        std = pd.DataFrame(std.groupby([\"Generator\", \"Model\"]).mean()[cols].apply(lambda x: np.sqrt(x)))\n",
        "        std[cols] = std[cols]* std[cols]\n",
        "\n",
        "        mean_final.append(mean)\n",
        "        std_final.append(std)\n",
        "  \n",
        "  if rank == True:\n",
        "    return cols, cols_new, std_final, mean_final\n",
        "  else:\n",
        "    return cols, std_final, mean_final"
      ]
    },
    {
      "cell_type": "code",
      "execution_count": null,
      "metadata": {
        "id": "e0LgP19_8Snd"
      },
      "outputs": [],
      "source": [
        "cols, stds, means = aggregate_numeric()\n",
        "std_a,std_b,std_c,std_d,std_e,std_f,std_g,std_h = stds\n",
        "mean_a,mean_b,mean_c, mean_d,mean_e,mean_f,mean_g, mean_h= means\n",
        "\n",
        "\n",
        "for col in [\"Mean_Knn\"]:\n",
        "\n",
        "  stds=(std_a+std_b+std_c+std_d+std_e+std_f+std_g+std_h)/8\n",
        "  data = ((mean_a+mean_b+mean_c+mean_d+mean_e+mean_f+mean_g+mean_h)/8)[[col]]\n",
        "  data[\"std\"]= stds.apply(lambda x: np.sqrt(x))[[col]]\n",
        "  \n",
        "  if col !=  \"mean_test_score\":\n",
        "    data = data.groupby(\"Generator\").mean()"
      ]
    },
    {
      "cell_type": "code",
      "execution_count": null,
      "metadata": {
        "colab": {
          "base_uri": "https://localhost:8080/",
          "height": 269
        },
        "id": "49U8K-qActUR",
        "outputId": "a43dcc7d-c893-43ef-f41c-d8f46bf5f59e"
      },
      "outputs": [],
      "source": [
        "data"
      ]
    },
    {
      "cell_type": "code",
      "execution_count": null,
      "metadata": {
        "colab": {
          "base_uri": "https://localhost:8080/"
        },
        "id": "C95v6cl4_ajO",
        "outputId": "9917a461-fadb-4692-e1e2-051116c53018"
      },
      "outputs": [],
      "source": [
        "#The Wilcoxon signficance tests used\n",
        "\n",
        "cols, stds, means = aggregate_numeric()\n",
        "std_a,std_b,std_c,std_d,std_e,std_f,std_g,std_h = stds\n",
        "mean_a,mean_b,mean_c, mean_d,mean_e,mean_f,mean_g, mean_h= means\n",
        "\n",
        "mean_a= mean_a.reset_index()\n",
        "mean_b= mean_b.reset_index()\n",
        "mean_c= mean_c.reset_index()\n",
        "mean_d= mean_d.reset_index()\n",
        "mean_e= mean_e.reset_index()\n",
        "mean_f= mean_f.reset_index()\n",
        "mean_g=mean_g.reset_index()\n",
        "mean_h=mean_h.reset_index()\n",
        "\n",
        "for col in cols:\n",
        "  cp =[]\n",
        "  gan =[]\n",
        "  umap_smote_nc =[]\n",
        "  smote =[]\n",
        "  vae = []\n",
        "  train =[]\n",
        "  p_values=[]\n",
        "\n",
        "  if col == \"mean_test_score\":\n",
        "    for classifier in [\"lr\",\"gs\", \"dt\", \"rf\", \"xgb\",\"mlp\"]:\n",
        "    \n",
        "      cp =[]\n",
        "      gan =[]\n",
        "      umap_smote_nc =[]\n",
        "      smote =[]\n",
        "      vae = []\n",
        "      train =[]\n",
        "      p_values=[]\n",
        "      for value in [mean_a,mean_b,mean_c,mean_d, mean_e, mean_f, mean_g,mean_h]:\n",
        "        data = value[value.Model==classifier]\n",
        "        [cp.append(x) for x in data[data.Generator == \"copula\"][col]]\n",
        "        [gan.append(x) for x in data[data.Generator == \"gan\"][col]]\n",
        "        [vae.append(x) for x in data[data.Generator == \"vae\"][col]]\n",
        "        [umap_smote_nc.append(x) for x in data[data.Generator == \"umap_smote_nc\"][col]]\n",
        "        [train.append(x) for x in data[data.Generator == \"train\"][col]]\n",
        "        [smote.append(x) for x in data[data.Generator == \"smote_nc\"][col]]\n",
        "\n",
        "      for i in [cp, gan, vae, smote]:\n",
        "        p_values.append(wilcoxon([t-j for (t,j) in zip(umap_smote_nc,i)])[1])\n",
        "\n",
        "      values=multipletests(p_values, method =\"holm\")[1]\n",
        "      [print(classifier, name, \"{:.1e}\".format(value)) for (value, name) in zip(values, [\"cp\", \"gan\", \"vae\", \"smote\"])]\n",
        "  \n",
        "  elif col in [\"Mean_Knn\", \"10_Knn\",\"Mean_Ratio_Knn\",\"Mean_Ratio_10Knn\", \"10_Ratio_Knn\", \"10_Ratio_10Knn\"]:\n",
        "    for value in [mean_a,mean_b,mean_c,mean_d, mean_e, mean_f, mean_g, mean_h]:\n",
        "      \n",
        "      data = value.groupby(\"Generator\").mean().reset_index()\n",
        "      [cp.append(x) for x in data[data.Generator == \"copula\"][col]]\n",
        "      [gan.append(x) for x in data[data.Generator == \"gan\"][col]]\n",
        "      [vae.append(x) for x in data[data.Generator == \"vae\"][col]]\n",
        "      [umap_smote_nc.append(x) for x in data[data.Generator == \"umap_smote_nc\"][col]]\n",
        "      [train.append(x) for x in data[data.Generator == \"train\"][col]]\n",
        "      [smote.append(x) for x in data[data.Generator == \"smote_nc\"][col]]\n",
        "\n",
        "    for i in [umap_smote_nc, smote, cp, gan, vae]:\n",
        "      p_values.append(wilcoxon([t-j for (t,j) in zip(train,i)])[1])\n",
        "    \n",
        "    values=multipletests(p_values, method =\"holm\")[1]\n",
        "    [print(col, name, \"{:.1e}\".format(value)) for (value, name) in zip(values, [\"umap_smote\", \"smote\", \"copula\", \"gan\", \"vae\"])]\n",
        "    "
      ]
    },
    {
      "cell_type": "code",
      "execution_count": null,
      "metadata": {
        "colab": {
          "base_uri": "https://localhost:8080/"
        },
        "id": "R4dqGYD6_9EN",
        "outputId": "8c54a67b-e28f-47ce-a042-9f15a87f8921"
      },
      "outputs": [],
      "source": [
        "cols, cols_new, stds, means = aggregate_numeric(rank=True, remove_train=True)\n",
        "std_a,std_b,std_c,std_d,std_e,std_f,std_g, std_h = stds\n",
        "mean_a,mean_b,mean_c, mean_d,mean_e,mean_f,mean_g,mean_h= means\n",
        "\n",
        "for col in cols_new:\n",
        "  \n",
        "  stds=(std_a+std_b+std_c+std_d+std_e+std_f+std_g+std_h)/8\n",
        "  data = ((mean_a+mean_b+mean_c+mean_d+mean_e+mean_f+mean_g+mean_h)/8)[[col]]\n",
        "  data[\"std\"]= stds.apply(lambda x: np.sqrt(x))[[col]]\n",
        "  data.reset_index(inplace=True)\n",
        "  data = data[~data.Generator.isin([\"train\"])]\n",
        "  if col !=  \"mean_test_score_Rank\":\n",
        "    \n",
        "    data = data.groupby(\"Generator\").mean()"
      ]
    },
    {
      "cell_type": "code",
      "execution_count": null,
      "metadata": {
        "colab": {
          "base_uri": "https://localhost:8080/",
          "height": 381
        },
        "id": "i7DMEghBAup0",
        "outputId": "0679d74b-4144-4903-bb2a-a60c345e83c4"
      },
      "outputs": [],
      "source": [
        "for col in cols_new:\n",
        "  cp = []\n",
        "  gan = []\n",
        "  vae = []\n",
        "  umap_smote_nc = []\n",
        "  smote=[]\n",
        "  train =[]\n",
        "  if col == \"mean_test_score_Rank\": \n",
        "\n",
        "   \n",
        "    for model in [\"gs\",\"rf\", \"xgb\", \"lr\", \"mlp\", \"dt\"]:\n",
        "      cp = []\n",
        "      gan = []\n",
        "      vae = []\n",
        "      umap_smote_nc = []\n",
        "      smote=[]\n",
        "      train =[]\n",
        "      for i in [mean_a,mean_b,mean_c, mean_d,mean_e,mean_f,mean_g,mean_h]:\n",
        "        data = i.groupby([\"Generator\", \"Model\"])[[col]].mean().reset_index()\n",
        "        data = data[data[\"Model\"]==model]\n",
        "        [cp.append(x) for x in data[data.Generator == \"copula\"][col]]\n",
        "        [gan.append(x) for x in data[data.Generator == \"gan\"][col]]\n",
        "        [vae.append(x) for x in data[data.Generator == \"vae\"][col]]\n",
        "        [umap_smote_nc.append(x) for x in data[data.Generator == \"umap_smote_nc\"][col]]\n",
        "        [smote.append(x) for x in data[data.Generator == \"smote_nc\"][col]]\n",
        "        [train.append(x) for x in data[data.Generator == \"train\"][col]]\n",
        "    \n",
        "      _, p_value = stats.friedmanchisquare(cp, gan,vae, umap_smote_nc, smote)\n",
        "      print(\"{:.1e}\".format(p_value), col, model)\n",
        "      if p_value >=0.05:\n",
        "        print(\"Failed\",  model)\n",
        "  else:\n",
        "\n",
        "    for i in [mean_a,mean_b,mean_c, mean_d,mean_e,mean_f,mean_g,mean_h]:\n",
        "      data = i.groupby([\"Generator\"])[[col]].mean().reset_index()\n",
        "      [cp.append(x) for x in data[data.Generator == \"copula\"][col]]\n",
        "      [gan.append(x) for x in data[data.Generator == \"gan\"][col]]\n",
        "      [vae.append(x) for x in data[data.Generator == \"vae\"][col]]\n",
        "      [smote.append(x) for x in data[data.Generator == \"smote_nc\"][col]]\n",
        "      [train.append(x) for x in data[data.Generator == \"train\"][col]]\n",
        "      [umap_smote_nc.append(x) for x in data[data.Generator == \"umap_smote_nc\"][col]]\n",
        "\n",
        "    \n",
        "    _, p_value = stats.friedmanchisquare(cp, gan, vae, umap_smote_nc, smote)\n",
        "    print(\"{:.1e}\".format(p_value), col)\n",
        "    if p_value >=0.05:\n",
        "      print(\"Failed\",  col)"
      ]
    }
  ],
  "metadata": {
    "colab": {
      "provenance": []
    },
    "gpuClass": "standard",
    "kernelspec": {
      "display_name": "Python 3",
      "name": "python3"
    },
    "language_info": {
      "codemirror_mode": {
        "name": "ipython",
        "version": 3
      },
      "file_extension": ".py",
      "mimetype": "text/x-python",
      "name": "python",
      "nbconvert_exporter": "python",
      "pygments_lexer": "ipython3",
      "version": "3.9.12"
    }
  },
  "nbformat": 4,
  "nbformat_minor": 0
}
